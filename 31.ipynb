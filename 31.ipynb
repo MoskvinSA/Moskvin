{
 "cells": [
  {
   "cell_type": "code",
   "execution_count": 2,
   "metadata": {},
   "outputs": [],
   "source": [
    "import numpy as np\n",
    "import matplotlib.pyplot as plt\n",
    "%matplotlib inline \n",
    "from scipy import linalg\n",
    "from scipy import optimize\n",
    "import pandas as pd\n",
    "import datetime\n",
    "import math as m"
   ]
  },
  {
   "cell_type": "markdown",
   "metadata": {},
   "source": [
    "## 31. Аппроксимация данных. Логистическая функция. \n",
    "[Weiner B. Discovering Psychology. 1977]\n",
    "\n",
    "В таблице представлены средние значения количества слов $y$, которыми владеет ребенок в заданном возрасте $x$.\n",
    "```\n",
    " 1.0        3\n",
    " 1.5       22\n",
    " 2.0      272\n",
    " 2.5      446\n",
    " 3.0      896\n",
    " 3.5     1222\n",
    " 4.0     1540\n",
    " 4.5     1870\n",
    " 5.0     2072\n",
    " 6.0     2562\n",
    "```\n",
    "Построить линейную $y = \\beta_0 + \\beta_1 x$ и две логистические модели: \n",
    "$$\n",
    "y = \\frac{\\beta_0}{1 + \\beta_1 e^{-\\beta_2 t}},\n",
    "\\qquad\n",
    "y = \\frac{\\beta_0}{1 + \\beta_1 e^{-\\beta_2 (t - t_0)}},\n",
    "$$\n",
    "аппроксимирующие данные.    \n",
    "Найти общую ошибку в каждом из этих случаев и сравнить результаты"
   ]
  },
  {
   "cell_type": "markdown",
   "metadata": {},
   "source": [
    "ввод данных и их илюстрация"
   ]
  },
  {
   "cell_type": "code",
   "execution_count": 3,
   "metadata": {},
   "outputs": [
    {
     "data": {
      "image/png": "[encoded data removed]",
      "text/plain": [
       "<Figure size 432x288 with 1 Axes>"
      ]
     },
     "metadata": {
      "needs_background": "light"
     },
     "output_type": "display_data"
    }
   ],
   "source": [
    "x = np.array([1.0,1.5,2.0,2.5,3.0,3.5,4.0,4.5,5.0,6.0])\n",
    "y = np.array([3,22,272,446,896,1222,1540,1870,2072,2562])\n",
    "plt.plot(x,y,'o',color = 'tab:orange')\n",
    "pass"
   ]
  },
  {
   "cell_type": "markdown",
   "metadata": {},
   "source": [
    "функции"
   ]
  },
  {
   "cell_type": "code",
   "execution_count": 167,
   "metadata": {},
   "outputs": [],
   "source": [
    "def fun_one(t, b0,b1):\n",
    "    return b0 + t * b1"
   ]
  },
  {
   "cell_type": "code",
   "execution_count": 168,
   "metadata": {},
   "outputs": [],
   "source": [
    "def fun_two(t, b0,b1,b2):\n",
    "    return b0 / (1 + b1 * np.exp(-b2 * t))"
   ]
  },
  {
   "cell_type": "code",
   "execution_count": 182,
   "metadata": {},
   "outputs": [],
   "source": [
    "def fun_three(t, t0, b0,b1,b2):\n",
    "    return b0 / (1 + b1 * np.exp(-b2 * (t - t0)))"
   ]
  },
  {
   "cell_type": "code",
   "execution_count": 183,
   "metadata": {},
   "outputs": [],
   "source": [
    "m = len(x)"
   ]
  },
  {
   "cell_type": "markdown",
   "metadata": {},
   "source": [
    "определяю коэффициенты"
   ]
  },
  {
   "cell_type": "code",
   "execution_count": 190,
   "metadata": {},
   "outputs": [],
   "source": [
    "params0, _ = optimize.curve_fit(fun_one, x, y)\n",
    "alpha1, alpha2 = params0\n",
    "#alpha2, alpha1 = np.polyfit(x, y, 1)\n",
    "params1, _ = optimize.curve_fit(fun_two, x, y)\n",
    "beta2, beta1, beta0 = params1\n",
    "params2, _ = optimize.curve_fit(fun_three, x, y)\n",
    "y0, gama2, gama1, gama0 = params2\n",
    "#bet2, beta1, beta0 = np.polyfit(x, y, 2)"
   ]
  },
  {
   "cell_type": "code",
   "execution_count": 191,
   "metadata": {},
   "outputs": [
    {
     "data": {
      "image/png": "[encoded data removed]",
      "text/plain": [
       "<Figure size 432x288 with 1 Axes>"
      ]
     },
     "metadata": {
      "needs_background": "light"
     },
     "output_type": "display_data"
    }
   ],
   "source": [
    "tt = np.linspace(np.min(x), np.max(x), 10)\n",
    "plt.plot(x,y,'o')\n",
    "plt.plot(tt, fun_one(tt,alpha1,alpha2), label='fun 1')\n",
    "plt.plot(tt, fun_two(tt, beta0, beta1, beta2), label='fun 2')\n",
    "plt.plot(tt, fun_three(tt, y0, gama0, gama1, gama2), label='fun 3')\n",
    "plt.legend()\n",
    "plt.grid()\n",
    "pass"
   ]
  },
  {
   "cell_type": "markdown",
   "metadata": {},
   "source": [
    "у меня выходит, что коэффициенты слишком большие для знаминателя, т.к. знаменатель = 1"
   ]
  }
 ],
 "metadata": {
  "kernelspec": {
   "display_name": "Python 3",
   "language": "python",
   "name": "python3"
  },
  "language_info": {
   "codemirror_mode": {
    "name": "ipython",
    "version": 3
   },
   "file_extension": ".py",
   "mimetype": "text/x-python",
   "name": "python",
   "nbconvert_exporter": "python",
   "pygments_lexer": "ipython3",
   "version": "3.7.4"
  }
 },
 "nbformat": 4,
 "nbformat_minor": 2
}
